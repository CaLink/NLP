{
 "cells": [
  {
   "cell_type": "code",
   "execution_count": 253,
   "metadata": {},
   "outputs": [
    {
     "name": "stderr",
     "output_type": "stream",
     "text": [
      "[nltk_data] Downloading package averaged_perceptron_tagger_ru to\n",
      "[nltk_data]     C:\\Users\\R E K L\\AppData\\Roaming\\nltk_data...\n",
      "[nltk_data]   Package averaged_perceptron_tagger_ru is already up-to-\n",
      "[nltk_data]       date!\n",
      "[nltk_data] Downloading package stopwords to C:\\Users\\R E K\n",
      "[nltk_data]     L\\AppData\\Roaming\\nltk_data...\n",
      "[nltk_data]   Package stopwords is already up-to-date!\n",
      "[nltk_data] Downloading package punkt to C:\\Users\\R E K\n",
      "[nltk_data]     L\\AppData\\Roaming\\nltk_data...\n",
      "[nltk_data]   Package punkt is already up-to-date!\n"
     ]
    }
   ],
   "source": [
    "import sqlite3\n",
    "import pandas as pd\n",
    "import nltk\n",
    "from natasha import (\n",
    "    Segmenter,\n",
    "    MorphVocab,\n",
    "    NewsEmbedding,\n",
    "    NewsMorphTagger,\n",
    "    NewsSyntaxParser,\n",
    "    NewsNERTagger,\n",
    "    PER,\n",
    "    NamesExtractor,\n",
    "    Doc\n",
    ")\n",
    "segmenter = Segmenter()\n",
    "morph_vocab = MorphVocab()\n",
    "\n",
    "emb = NewsEmbedding()\n",
    "morph_tagger = NewsMorphTagger(emb)\n",
    "syntax_parser = NewsSyntaxParser(emb)\n",
    "ner_tagger = NewsNERTagger(emb)\n",
    "\n",
    "names_extractor = NamesExtractor(morph_vocab)\n",
    "\n",
    "nltk.download(['averaged_perceptron_tagger_ru', 'stopwords', 'punkt'])\n",
    "    \n",
    "import matplotlib.pyplot as plt"
   ]
  },
  {
   "cell_type": "code",
   "execution_count": 254,
   "metadata": {},
   "outputs": [
    {
     "data": {
      "text/html": [
       "<div>\n",
       "<style scoped>\n",
       "    .dataframe tbody tr th:only-of-type {\n",
       "        vertical-align: middle;\n",
       "    }\n",
       "\n",
       "    .dataframe tbody tr th {\n",
       "        vertical-align: top;\n",
       "    }\n",
       "\n",
       "    .dataframe thead th {\n",
       "        text-align: right;\n",
       "    }\n",
       "</style>\n",
       "<table border=\"1\" class=\"dataframe\">\n",
       "  <thead>\n",
       "    <tr style=\"text-align: right;\">\n",
       "      <th></th>\n",
       "      <th>title</th>\n",
       "      <th>content</th>\n",
       "      <th>category</th>\n",
       "      <th>created_date</th>\n",
       "    </tr>\n",
       "  </thead>\n",
       "  <tbody>\n",
       "    <tr>\n",
       "      <th>0</th>\n",
       "      <td>Глеб Никитин и Михаил Мурашко открыли в Нижнем...</td>\n",
       "      <td>Нижний Новгород. 2 января. НТА-Приволжье —Губе...</td>\n",
       "      <td>Общество</td>\n",
       "      <td>2023-01-02</td>\n",
       "    </tr>\n",
       "    <tr>\n",
       "      <th>1</th>\n",
       "      <td>Движение возле нижегородского Дворца спорта ог...</td>\n",
       "      <td>Нижний Новгород. 2 января. НТА-Приволжье — Дви...</td>\n",
       "      <td>Городское хозяйство; ЖКХ</td>\n",
       "      <td>2023-01-02</td>\n",
       "    </tr>\n",
       "    <tr>\n",
       "      <th>2</th>\n",
       "      <td>Еще один случай нападения на сотрудника скорой...</td>\n",
       "      <td>Саратов. 1 января. НТА-Приволжье — Еще один сл...</td>\n",
       "      <td>Происшествия и криминал</td>\n",
       "      <td>2023-01-01</td>\n",
       "    </tr>\n",
       "    <tr>\n",
       "      <th>3</th>\n",
       "      <td>Пожар в доме на улице Бориса Панина тушили 2 я...</td>\n",
       "      <td>Нижний Новгород. 2 января. НТА-Приволжье — Пож...</td>\n",
       "      <td>Происшествия и криминал</td>\n",
       "      <td>2023-01-02</td>\n",
       "    </tr>\n",
       "    <tr>\n",
       "      <th>4</th>\n",
       "      <td>Спектакль \"Человеку нужен человек\" по пьесе Не...</td>\n",
       "      <td>Нижний Новгород. 2 января. НТА-Приволжье — В Н...</td>\n",
       "      <td>Культура и искусство</td>\n",
       "      <td>2023-01-02</td>\n",
       "    </tr>\n",
       "  </tbody>\n",
       "</table>\n",
       "</div>"
      ],
      "text/plain": [
       "                                               title  \\\n",
       "0  Глеб Никитин и Михаил Мурашко открыли в Нижнем...   \n",
       "1  Движение возле нижегородского Дворца спорта ог...   \n",
       "2  Еще один случай нападения на сотрудника скорой...   \n",
       "3  Пожар в доме на улице Бориса Панина тушили 2 я...   \n",
       "4  Спектакль \"Человеку нужен человек\" по пьесе Не...   \n",
       "\n",
       "                                             content  \\\n",
       "0  Нижний Новгород. 2 января. НТА-Приволжье —Губе...   \n",
       "1  Нижний Новгород. 2 января. НТА-Приволжье — Дви...   \n",
       "2  Саратов. 1 января. НТА-Приволжье — Еще один сл...   \n",
       "3  Нижний Новгород. 2 января. НТА-Приволжье — Пож...   \n",
       "4  Нижний Новгород. 2 января. НТА-Приволжье — В Н...   \n",
       "\n",
       "                   category created_date  \n",
       "0                  Общество   2023-01-02  \n",
       "1  Городское хозяйство; ЖКХ   2023-01-02  \n",
       "2   Происшествия и криминал   2023-01-01  \n",
       "3   Происшествия и криминал   2023-01-02  \n",
       "4      Культура и искусство   2023-01-02  "
      ]
     },
     "execution_count": 254,
     "metadata": {},
     "output_type": "execute_result"
    }
   ],
   "source": [
    "con = sqlite3.connect('snatcher/db/nta.db')\n",
    "df = pd.read_sql_query('SELECT * FROM nta', con)\n",
    "con.close()\n",
    "df.head()"
   ]
  },
  {
   "cell_type": "markdown",
   "metadata": {},
   "source": [
    "# Подготовка данных"
   ]
  },
  {
   "cell_type": "code",
   "execution_count": 255,
   "metadata": {},
   "outputs": [
    {
     "data": {
      "text/plain": [
       "['Нижний Новгород. 2 января. НТА-Приволжье —Губернатор Нижегородской области Глеб Никитин и министр здравоохранения РФ Михаил Мурашко открыли в Нижнем Новгороде памятник \"Три врача\".Монумент медикам, принимающим участие в борьбе с ковидом, располагается на территории нового корпуса инфекционной больницы № 23. Напомним, закладка памятника состоялась 1 августа 2020 года, в разгар пандемии.\"Это знак нашего уважения и благодарности за их самоотверженность, ответственность и профессионализм\", - отметил глава Нижегородской области.По словам Глеба Никитина, сейчас в госпитале находятся более 240 пациентов (загрузка около 70%). \"Грипп, пневмонии, ковид - в новогодние праздники у врачей немало работы. Пожелали коллективу удачи и дальнейшего развития!\" - написал в своем телеграм-канале губернатор.По информации пресс-службы нижегородского правительства, затем Михаил Мурашко и Глеб Никитин провели рабочую встречу. Глава региона, в частности, рассказал о ситуации с заболеваемостью гриппом и ОРВИ в регионе. Глеб Никитин подчеркнул, что с последней недели декабря наблюдается снижение уровня заболеваемости. В больницах есть серьезный запас коечного фонда.']"
      ]
     },
     "execution_count": 255,
     "metadata": {},
     "output_type": "execute_result"
    }
   ],
   "source": [
    "data = list(df['content'])\n",
    "data[:1]"
   ]
  },
  {
   "cell_type": "code",
   "execution_count": 256,
   "metadata": {},
   "outputs": [
    {
     "data": {
      "text/plain": [
       "'Нижний Новгород. 2 января. НТА-Приволжье — Движение возле нижегородского Дворца спорта ограничат новогодние праздники. Как сообщили городском дептрансе , ограничения будут действовать 3 6 января 07:00 20:00. Объезд возможен прилегающим участкам улично-дорожной сети. Автомобилистов просят учитывать данную информацию планировании поездок. , движение транспорта закроют улице Барнаульской конца февраля 2023 года.'"
      ]
     },
     "execution_count": 256,
     "metadata": {},
     "output_type": "execute_result"
    }
   ],
   "source": [
    "# Чистим стоп-слова\n",
    "for text in range(len(data)):\n",
    "        data[text] = ' '.join([token for token in nltk.word_tokenize(data[text]) if token not in nltk.corpus.stopwords.words('russian')]).replace(' .', '.')\n",
    "data[1]"
   ]
  },
  {
   "cell_type": "code",
   "execution_count": 257,
   "metadata": {},
   "outputs": [
    {
     "name": "stdout",
     "output_type": "stream",
     "text": [
      "  ┌► Нижний   amod\n",
      "┌─└─ Новгород \n",
      "└──► .        punct\n",
      "\n",
      "┌──────────────► НТА-Приволжье nsubj:pass\n",
      "│           ┌──► —             punct\n",
      "│           │ ┌► Пожар         amod\n",
      "│ ┌─────────└─└─ доме          \n",
      "│ │         └──► улице         nmod\n",
      "│ │   ┌──────►┌─ Бориса        nmod\n",
      "│ │   │       └► Панина        flat:name\n",
      "│ │   │   ┌───┌─ тушили        \n",
      "│ │   │   │ ┌─└► 2             obl\n",
      "│ │   │   │ └──► января        flat\n",
      "│ │ ┌►│   │      .             punct\n",
      "│ │ │ │   │   ┌► По            case\n",
      "│ │ │ │ ┌─└►┌─└─ информации    parataxis\n",
      "│ │ │ │ │   │ ┌► регионального amod\n",
      "│ │ │ │ │   └►└─ главка        nmod\n",
      "│ │ │ └─│   └►┌─ МЧС           nmod\n",
      "│ │ │   │     └► России        nmod\n",
      "│ │ │   └──────► ,             punct\n",
      "│ │ │     ┌──►┌─ информация    nsubj:pass\n",
      "│ │ │     │   └► ЧП            nmod\n",
      "│ │ │     │   ┌► Советском     amod\n",
      "│ └►│     │ ┌─└─ районе        nmod\n",
      "│   │     │ │ ┌► областного    amod\n",
      "│   │     │ └►└─ центра        nmod\n",
      "└───└─┌───└───── получена      \n",
      "      │ ┌►│ ┌─── 07            nummod\n",
      "      │ │ │ │ ┌► :             punct\n",
      "      │ │ │ └►└─ 50            flat\n",
      "      │ │ └────► .             punct\n",
      "      │ │     ┌► На            case\n",
      "      │ │ ┌►┌─└─ место         obl\n",
      "      │ │ │ └──► происшествия  nmod\n",
      "      │ │ │   ┌► оперативном   amod\n",
      "      │ │ │ ┌►└─ порядке       obl\n",
      "      │ └─└─└─┌─ выехали       \n",
      "      │       └► огнеборцы     nsubj\n",
      "      └────────► .             punct\n",
      "                  ┌────► Из               case\n",
      "                  │ ┌──► многоквартирного amod\n",
      "                  │ │ ┌► жилого           amod\n",
      "                  └─└─└─ дома             obl\n",
      "┌─────────────┌───┌─└─── эвакуированы     \n",
      "│             │   │   ┌► 28               nummod\n",
      "│             │   └──►└─ жильцов          nsubj:pass\n",
      "│             │       ┌► ,                punct\n",
      "│     ┌──────►│       └─ числе            advcl\n",
      "│     │       │       ┌► 3                nummod\n",
      "│     │       │ ┌────►└─ ребенка          conj\n",
      "│     │       │ │ ┌────► .                punct\n",
      "│     │       │ │ │   ┌► На               case\n",
      "│     │       └►│ │ ┌─└─ тушении          obl\n",
      "│     │         │ │ └──► пожара           nmod\n",
      "│ ┌─┌─│ ┌───────│ └─┌─── задействованы    \n",
      "│ │ │ │ │       │   │ ┌► 32               nummod\n",
      "│ │ │ │ │       └─┌─└►└─ человека         nsubj:pass\n",
      "│ │ │ │ │       │ │   ┌► личного          amod\n",
      "│ │ │ │ │       │ └──►└─ состава          nmod\n",
      "│ │ │ │ │       │     ┌► 9                nummod\n",
      "│ │ │ │ │       └──►┌─└─ единиц           nmod\n",
      "│ │ │ │ │           └──► техники          nmod\n",
      "│ │ │ │ │     ┌────────► .                punct\n",
      "│ │ │ │ │     │       ┌► В                case\n",
      "│ │ │ │ │     │ ┌►┌─┌─└─ 08               nummod\n",
      "│ │ │ │ │     │ │ │ └──► :                punct\n",
      "│ │ │ │ │     │ │ └────► 20               nummod\n",
      "│ │ │ │ │ ┌──►│ │        пожар            nsubj:pass\n",
      "│ │ │ └─│ │ ┌─└─└─────── ликвидирован     \n",
      "│ │ │   └►│ │            .                punct\n",
      "│ │ │     │ │         ┌► В                case\n",
      "└►│ │     │ │       ┌─└─ результате       obl\n",
      "  │ │     │ │       └──► происшествия     nmod\n",
      "  │ │     │ │            пострадал        \n",
      "  │ │     │ └──────────► человек          nsubj:pass\n",
      "  │ └────►│              .                punct\n",
      "  │       │           ┌► Сейчас           advmod\n",
      "  │       └─────────┌─└─ устанавливается  \n",
      "  │                 └►┌─ причина          nsubj:pass\n",
      "  │                   └► произошедшего    nmod\n",
      "  └────────────────────► .                punct\n"
     ]
    }
   ],
   "source": [
    "text = data[3]\n",
    "doc = Doc(text)\n",
    "doc.segment(segmenter)\n",
    "doc.parse_syntax(syntax_parser)\n",
    "doc.tag_morph(morph_tagger)\n",
    "for sentence in doc.sents: # получаем предложения\n",
    "    try:\n",
    "        sentence.syntax.print()\n",
    "    except:\n",
    "        print()"
   ]
  },
  {
   "cell_type": "markdown",
   "metadata": {},
   "source": [
    "# Токенизация"
   ]
  },
  {
   "cell_type": "code",
   "execution_count": 258,
   "metadata": {},
   "outputs": [
    {
     "data": {
      "text/plain": [
       "Doc(text='Нижний Новгород. 2 января. НТА-Приволжье — Движен..., tokens=[...], sents=[...])"
      ]
     },
     "execution_count": 258,
     "metadata": {},
     "output_type": "execute_result"
    }
   ],
   "source": [
    "tokens_arr = []\n",
    "for text in data:\n",
    "    doc = Doc(text)\n",
    "    doc.segment(segmenter)\n",
    "    tokens_arr.append(doc)\n",
    "tokens_arr[1]"
   ]
  },
  {
   "cell_type": "markdown",
   "metadata": {},
   "source": [
    "# Лематизация"
   ]
  },
  {
   "cell_type": "code",
   "execution_count": 259,
   "metadata": {},
   "outputs": [
    {
     "data": {
      "text/plain": [
       "[DocToken(stop=6, text='Нижний', pos='ADJ', feats=<Nom,Pos,Masc,Sing>, lemma='нижний'),\n",
       " DocToken(start=7, stop=15, text='Новгород', pos='PROPN', feats=<Inan,Nom,Masc,Sing>, lemma='новгород'),\n",
       " DocToken(start=15, stop=16, text='.', pos='PUNCT', lemma='.'),\n",
       " DocToken(start=17, stop=18, text='2', pos='ADJ', lemma='2'),\n",
       " DocToken(start=19, stop=25, text='января', pos='NOUN', feats=<Inan,Gen,Masc,Sing>, lemma='январь')]"
      ]
     },
     "execution_count": 259,
     "metadata": {},
     "output_type": "execute_result"
    }
   ],
   "source": [
    "for doc in tokens_arr:\n",
    "    doc.tag_morph(morph_tagger)\n",
    "    for token in doc.tokens:\n",
    "        token.lemmatize(morph_vocab)\n",
    "\n",
    "tokens_arr[1].tokens[:5]\n"
   ]
  },
  {
   "cell_type": "markdown",
   "metadata": {},
   "source": [
    "# Самые популярные пары подлежащих и сказуемых"
   ]
  },
  {
   "cell_type": "code",
   "execution_count": 260,
   "metadata": {},
   "outputs": [],
   "source": [
    "popular = {}\n",
    "for doc in tokens_arr:\n",
    "    doc.parse_syntax(syntax_parser)\n",
    "    for sentence in doc.sents:\n",
    "        root = {}\n",
    "        nsubj = {}\n",
    "\n",
    "        for token in sentence.tokens:\n",
    "            if token.rel == 'root':\n",
    "                root[token.id] = token.lemma\n",
    "            if token.rel == 'nsubj':\n",
    "                nsubj[token.id] = (token.head_id, token.lemma)\n",
    "\n",
    "        for key, value in nsubj.items():\n",
    "            try:\n",
    "               pop = f'{root[value[0]]} + {value[1]}'\n",
    "               if pop not in popular.keys():\n",
    "                   popular[pop] = 0\n",
    "               popular[pop] += 1\n",
    "            except:\n",
    "                continue"
   ]
  },
  {
   "cell_type": "code",
   "execution_count": 261,
   "metadata": {},
   "outputs": [
    {
     "name": "stdout",
     "output_type": "stream",
     "text": [
      "['сообщить + глава', 'мочь + порыв', 'возможный + случай', 'стать + нта-приволжье', 'произойти + нта-приволжье']\n"
     ]
    }
   ],
   "source": [
    "maximum = []\n",
    "m = max(popular.values())\n",
    "for key, value in popular.items():\n",
    "    if value == m or value == m-1:\n",
    "        maximum.append(key)\n",
    "print(maximum)\n"
   ]
  },
  {
   "cell_type": "markdown",
   "metadata": {},
   "source": [
    "# Самые популярные слова"
   ]
  },
  {
   "cell_type": "code",
   "execution_count": 262,
   "metadata": {},
   "outputs": [],
   "source": [
    "popularWord = {}\n",
    "for doc in tokens_arr:\n",
    "    for token in doc.tokens:\n",
    "        if token.rel == 'punct':\n",
    "            continue\n",
    "        if token.lemma not in popularWord.keys():\n",
    "            popularWord[token.lemma] = 0\n",
    "        popularWord[token.lemma] += 1\n"
   ]
  },
  {
   "cell_type": "markdown",
   "metadata": {},
   "source": [
    "# Статистика"
   ]
  },
  {
   "cell_type": "code",
   "execution_count": 279,
   "metadata": {},
   "outputs": [
    {
     "data": {
      "text/html": [
       "<div>\n",
       "<style scoped>\n",
       "    .dataframe tbody tr th:only-of-type {\n",
       "        vertical-align: middle;\n",
       "    }\n",
       "\n",
       "    .dataframe tbody tr th {\n",
       "        vertical-align: top;\n",
       "    }\n",
       "\n",
       "    .dataframe thead th {\n",
       "        text-align: right;\n",
       "    }\n",
       "</style>\n",
       "<table border=\"1\" class=\"dataframe\">\n",
       "  <thead>\n",
       "    <tr style=\"text-align: right;\">\n",
       "      <th></th>\n",
       "      <th>Группа</th>\n",
       "      <th>Количество</th>\n",
       "    </tr>\n",
       "  </thead>\n",
       "  <tbody>\n",
       "    <tr>\n",
       "      <th>54</th>\n",
       "      <td>мочь + порыв</td>\n",
       "      <td>4</td>\n",
       "    </tr>\n",
       "    <tr>\n",
       "      <th>221</th>\n",
       "      <td>произойти + нта-приволжье</td>\n",
       "      <td>3</td>\n",
       "    </tr>\n",
       "    <tr>\n",
       "      <th>55</th>\n",
       "      <td>возможный + случай</td>\n",
       "      <td>3</td>\n",
       "    </tr>\n",
       "    <tr>\n",
       "      <th>215</th>\n",
       "      <td>стать + нта-приволжье</td>\n",
       "      <td>3</td>\n",
       "    </tr>\n",
       "    <tr>\n",
       "      <th>46</th>\n",
       "      <td>сообщить + глава</td>\n",
       "      <td>3</td>\n",
       "    </tr>\n",
       "    <tr>\n",
       "      <th>...</th>\n",
       "      <td>...</td>\n",
       "      <td>...</td>\n",
       "    </tr>\n",
       "    <tr>\n",
       "      <th>130</th>\n",
       "      <td>опускаться + день</td>\n",
       "      <td>1</td>\n",
       "    </tr>\n",
       "    <tr>\n",
       "      <th>129</th>\n",
       "      <td>характерный + мороз</td>\n",
       "      <td>1</td>\n",
       "    </tr>\n",
       "    <tr>\n",
       "      <th>128</th>\n",
       "      <td>отмечать + синоптик</td>\n",
       "      <td>1</td>\n",
       "    </tr>\n",
       "    <tr>\n",
       "      <th>127</th>\n",
       "      <td>прогреваться + воздух</td>\n",
       "      <td>1</td>\n",
       "    </tr>\n",
       "    <tr>\n",
       "      <th>382</th>\n",
       "      <td>площадка + это</td>\n",
       "      <td>1</td>\n",
       "    </tr>\n",
       "  </tbody>\n",
       "</table>\n",
       "<p>383 rows × 2 columns</p>\n",
       "</div>"
      ],
      "text/plain": [
       "                        Группа  Количество\n",
       "54                мочь + порыв           4\n",
       "221  произойти + нта-приволжье           3\n",
       "55          возможный + случай           3\n",
       "215      стать + нта-приволжье           3\n",
       "46            сообщить + глава           3\n",
       "..                         ...         ...\n",
       "130          опускаться + день           1\n",
       "129        характерный + мороз           1\n",
       "128        отмечать + синоптик           1\n",
       "127      прогреваться + воздух           1\n",
       "382             площадка + это           1\n",
       "\n",
       "[383 rows x 2 columns]"
      ]
     },
     "metadata": {},
     "output_type": "display_data"
    },
    {
     "data": {
      "image/png": "[encoded data removed]",
      "text/plain": [
       "<Figure size 640x480 with 1 Axes>"
      ]
     },
     "metadata": {},
     "output_type": "display_data"
    }
   ],
   "source": [
    "df = pd.DataFrame(popular.items(), columns=['Группа', \"Количество\"])\n",
    "display(df.sort_values(by='Количество', ascending=False))\n",
    "df.plot.bar()\n",
    "plt.show()"
   ]
  },
  {
   "cell_type": "code",
   "execution_count": 280,
   "metadata": {},
   "outputs": [
    {
     "data": {
      "text/html": [
       "<div>\n",
       "<style scoped>\n",
       "    .dataframe tbody tr th:only-of-type {\n",
       "        vertical-align: middle;\n",
       "    }\n",
       "\n",
       "    .dataframe tbody tr th {\n",
       "        vertical-align: top;\n",
       "    }\n",
       "\n",
       "    .dataframe thead th {\n",
       "        text-align: right;\n",
       "    }\n",
       "</style>\n",
       "<table border=\"1\" class=\"dataframe\">\n",
       "  <thead>\n",
       "    <tr style=\"text-align: right;\">\n",
       "      <th></th>\n",
       "      <th>0</th>\n",
       "      <th>1</th>\n",
       "    </tr>\n",
       "  </thead>\n",
       "  <tbody>\n",
       "    <tr>\n",
       "      <th>3</th>\n",
       "      <td>январь</td>\n",
       "      <td>86</td>\n",
       "    </tr>\n",
       "    <tr>\n",
       "      <th>38</th>\n",
       "      <td>год</td>\n",
       "      <td>70</td>\n",
       "    </tr>\n",
       "    <tr>\n",
       "      <th>97</th>\n",
       "      <td>в</td>\n",
       "      <td>69</td>\n",
       "    </tr>\n",
       "    <tr>\n",
       "      <th>5</th>\n",
       "      <td>нижегородский</td>\n",
       "      <td>51</td>\n",
       "    </tr>\n",
       "    <tr>\n",
       "      <th>4</th>\n",
       "      <td>нта-приволжье</td>\n",
       "      <td>50</td>\n",
       "    </tr>\n",
       "    <tr>\n",
       "      <th>...</th>\n",
       "      <td>...</td>\n",
       "      <td>...</td>\n",
       "    </tr>\n",
       "    <tr>\n",
       "      <th>1264</th>\n",
       "      <td>заражение</td>\n",
       "      <td>1</td>\n",
       "    </tr>\n",
       "    <tr>\n",
       "      <th>1262</th>\n",
       "      <td>рекомендация</td>\n",
       "      <td>1</td>\n",
       "    </tr>\n",
       "    <tr>\n",
       "      <th>1261</th>\n",
       "      <td>методический</td>\n",
       "      <td>1</td>\n",
       "    </tr>\n",
       "    <tr>\n",
       "      <th>1260</th>\n",
       "      <td>дезинфекция</td>\n",
       "      <td>1</td>\n",
       "    </tr>\n",
       "    <tr>\n",
       "      <th>2614</th>\n",
       "      <td>совместный</td>\n",
       "      <td>1</td>\n",
       "    </tr>\n",
       "  </tbody>\n",
       "</table>\n",
       "<p>2615 rows × 2 columns</p>\n",
       "</div>"
      ],
      "text/plain": [
       "                  0   1\n",
       "3            январь  86\n",
       "38              год  70\n",
       "97                в  69\n",
       "5     нижегородский  51\n",
       "4     нта-приволжье  50\n",
       "...             ...  ..\n",
       "1264      заражение   1\n",
       "1262   рекомендация   1\n",
       "1261   методический   1\n",
       "1260    дезинфекция   1\n",
       "2614     совместный   1\n",
       "\n",
       "[2615 rows x 2 columns]"
      ]
     },
     "metadata": {},
     "output_type": "display_data"
    },
    {
     "data": {
      "image/png": "[encoded data removed]",
      "text/plain": [
       "<Figure size 640x480 with 1 Axes>"
      ]
     },
     "metadata": {},
     "output_type": "display_data"
    }
   ],
   "source": [
    "df = pd.DataFrame(popularWord.items())\n",
    "display(df.sort_values(by=1, ascending=False))\n",
    "df.plot.bar()\n",
    "plt.show()"
   ]
  },
  {
   "cell_type": "markdown",
   "metadata": {},
   "source": [
    "Видим, что слова в основном слова не повторяются. Но при этом самые популярные слова - наименование чего-либо (Дата, город и тд) \\\n",
    "Так же видим, что пары подлежащие и сказуемое вообще не повторяются (за исключением пары случаев)"
   ]
  }
 ],
 "metadata": {
  "kernelspec": {
   "display_name": "venv",
   "language": "python",
   "name": "python3"
  },
  "language_info": {
   "codemirror_mode": {
    "name": "ipython",
    "version": 3
   },
   "file_extension": ".py",
   "mimetype": "text/x-python",
   "name": "python",
   "nbconvert_exporter": "python",
   "pygments_lexer": "ipython3",
   "version": "3.9.13"
  }
 },
 "nbformat": 4,
 "nbformat_minor": 2
}
